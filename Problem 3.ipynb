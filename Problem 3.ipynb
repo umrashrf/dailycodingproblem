{
 "cells": [
  {
   "cell_type": "markdown",
   "metadata": {},
   "source": [
    "This problem was asked by Google.\n",
    "\n",
    "Given the root to a binary tree, implement serialize(root), which serializes the tree into a string, and deserialize(s), which deserializes the string back into the tree.\n",
    "\n",
    "For example, given the following Node class\n",
    "\n",
    "```\n",
    "class Node:\n",
    "    def __init__(self, val, left=None, right=None):\n",
    "        self.val = val\n",
    "        self.left = left\n",
    "        self.right = right\n",
    "```\n",
    "\n",
    "The following test should pass:\n",
    "\n",
    "```\n",
    "node = Node('root', Node('left', Node('left.left')), Node('right'))\n",
    "assert deserialize(serialize(node)).left.left.val == 'left.left'\n",
    "```"
   ]
  },
  {
   "cell_type": "markdown",
   "metadata": {},
   "source": [
    "Rewording\n",
    "\n",
    "Serialize the Node class such that after deserializng, the Node left and right can be accessed and their values"
   ]
  },
  {
   "cell_type": "code",
   "execution_count": 1,
   "metadata": {},
   "outputs": [],
   "source": [
    "class Node:\n",
    "    def __init__(self, val, left=None, right=None):\n",
    "        self.val = val\n",
    "        self.left = left\n",
    "        self.right = right"
   ]
  },
  {
   "cell_type": "code",
   "execution_count": 2,
   "metadata": {},
   "outputs": [],
   "source": [
    "node1 = Node('root', Node('left', Node('left.left')), Node('right'))"
   ]
  },
  {
   "cell_type": "code",
   "execution_count": 3,
   "metadata": {},
   "outputs": [],
   "source": [
    "node2 = Node('root', \n",
    "            Node('left', \n",
    "                Node('left.left',\n",
    "                    Node('left.left.left'), Node('left.left.right'))), \n",
    "            Node('right'))"
   ]
  },
  {
   "cell_type": "code",
   "execution_count": 4,
   "metadata": {},
   "outputs": [],
   "source": [
    "node3 = Node('root', \n",
    "            Node('left', \n",
    "                Node('left.left',\n",
    "                    Node('left.left.left'), Node('left.left.right'))), \n",
    "            Node('right', \n",
    "                 Node('right.left'), Node('right.right')))"
   ]
  },
  {
   "cell_type": "code",
   "execution_count": 5,
   "metadata": {},
   "outputs": [],
   "source": [
    "def serialize(node: Node):\n",
    "    ss = [node.val]\n",
    "    if node.left:\n",
    "        ss.extend(serialize(node.left))\n",
    "    else:\n",
    "        ss.append('^')\n",
    "    if node.right:\n",
    "        ss.extend(serialize(node.right))\n",
    "        ss.append('^')\n",
    "    return ss"
   ]
  },
  {
   "cell_type": "code",
   "execution_count": 6,
   "metadata": {},
   "outputs": [],
   "source": [
    "def deserialize(text: list, n):\n",
    "    def _helper(index):\n",
    "        if index >= n - 1:\n",
    "            return None, index\n",
    "        if text[index] == '^':\n",
    "            return None, index + 1\n",
    "        value = text[index]\n",
    "        left, index = _helper(index + 1)\n",
    "        right, index = _helper(index)\n",
    "        return Node(value, left, right), index\n",
    "    return _helper(0)[0]"
   ]
  },
  {
   "cell_type": "code",
   "execution_count": 7,
   "metadata": {},
   "outputs": [
    {
     "data": {
      "text/plain": [
       "'root,left,left.left,left.left.left,^,left.left.right,^,^,right,right.left,^,right.right,^,^,^'"
      ]
     },
     "execution_count": 7,
     "metadata": {},
     "output_type": "execute_result"
    }
   ],
   "source": [
    "text = ','.join(serialize(node3))\n",
    "text"
   ]
  },
  {
   "cell_type": "code",
   "execution_count": 8,
   "metadata": {},
   "outputs": [
    {
     "data": {
      "text/plain": [
       "['root',\n",
       " 'left',\n",
       " 'left.left',\n",
       " 'left.left.left',\n",
       " '^',\n",
       " 'left.left.right',\n",
       " '^',\n",
       " '^',\n",
       " 'right',\n",
       " 'right.left',\n",
       " '^',\n",
       " 'right.right',\n",
       " '^',\n",
       " '^',\n",
       " '^']"
      ]
     },
     "execution_count": 8,
     "metadata": {},
     "output_type": "execute_result"
    }
   ],
   "source": [
    "text_list = text.split(',')\n",
    "text_list"
   ]
  },
  {
   "cell_type": "code",
   "execution_count": 9,
   "metadata": {},
   "outputs": [
    {
     "data": {
      "text/plain": [
       "15"
      ]
     },
     "execution_count": 9,
     "metadata": {},
     "output_type": "execute_result"
    }
   ],
   "source": [
    "n = len(text_list)\n",
    "n"
   ]
  },
  {
   "cell_type": "code",
   "execution_count": 10,
   "metadata": {},
   "outputs": [
    {
     "data": {
      "text/plain": [
       "<__main__.Node at 0x278b9d67308>"
      ]
     },
     "execution_count": 10,
     "metadata": {},
     "output_type": "execute_result"
    }
   ],
   "source": [
    "root3 = deserialize(text_list, n)\n",
    "root3"
   ]
  },
  {
   "cell_type": "code",
   "execution_count": 11,
   "metadata": {},
   "outputs": [
    {
     "data": {
      "text/plain": [
       "['root',\n",
       " 'left',\n",
       " 'left.left',\n",
       " 'left.left.left',\n",
       " '^',\n",
       " 'left.left.right',\n",
       " '^',\n",
       " '^',\n",
       " 'right',\n",
       " 'right.left',\n",
       " '^',\n",
       " 'right.right',\n",
       " '^',\n",
       " '^',\n",
       " '^']"
      ]
     },
     "execution_count": 11,
     "metadata": {},
     "output_type": "execute_result"
    }
   ],
   "source": [
    "serialize(root3)"
   ]
  },
  {
   "cell_type": "code",
   "execution_count": 12,
   "metadata": {},
   "outputs": [],
   "source": [
    "assert serialize(root3) == serialize(node3)"
   ]
  },
  {
   "cell_type": "code",
   "execution_count": null,
   "metadata": {},
   "outputs": [],
   "source": []
  }
 ],
 "metadata": {
  "kernelspec": {
   "display_name": "Python 3",
   "language": "python",
   "name": "python3"
  },
  "language_info": {
   "codemirror_mode": {
    "name": "ipython",
    "version": 3
   },
   "file_extension": ".py",
   "mimetype": "text/x-python",
   "name": "python",
   "nbconvert_exporter": "python",
   "pygments_lexer": "ipython3",
   "version": "3.7.4"
  }
 },
 "nbformat": 4,
 "nbformat_minor": 4
}
